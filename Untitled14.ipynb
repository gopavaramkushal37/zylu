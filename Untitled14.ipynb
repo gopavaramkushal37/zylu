{
  "nbformat": 4,
  "nbformat_minor": 0,
  "metadata": {
    "colab": {
      "provenance": []
    },
    "kernelspec": {
      "name": "python3",
      "display_name": "Python 3"
    },
    "language_info": {
      "name": "python"
    }
  },
  "cells": [
    {
      "cell_type": "code",
      "source": [
        "import pandas as pd\n",
        "import numpy as np\n",
        "\n",
        "data = pd.read_csv('customer_data.csv')\n",
        "\n",
        "data.fillna(0, inplace=True)\n",
        "data['return'] = data['return_date'].apply(lambda x: 1 if x != 0 else 0)\n",
        "data['purchase_year'] = pd.to_datetime(data['purchase_date']).dt.year\n",
        "data['purchase_month'] = pd.to_datetime(data['purchase_date']).dt.month\n",
        "\n",
        "data.drop(columns=['purchase_date', 'return_date'], inplace=True)\n"
      ],
      "metadata": {
        "id": "1Cl_nqZ1Uiiv"
      },
      "execution_count": 21,
      "outputs": []
    },
    {
      "cell_type": "code",
      "source": [
        "from sklearn.model_selection import train_test_split\n",
        "from sklearn.ensemble import RandomForestClassifier\n",
        "from sklearn.metrics import accuracy_score\n",
        "\n",
        "X = data.drop(columns=['customer_id', 'product_id', 'return'])\n",
        "y = data['return']\n",
        "\n",
        "X_train, X_test, y_train, y_test = train_test_split(X, y, test_size=0.2, random_state=42)\n",
        "\n",
        "clf = RandomForestClassifier(n_estimators=100, random_state=42)\n",
        "clf.fit(X_train, y_train)\n",
        "\n",
        "y_pred = clf.predict(X_test)\n",
        "print(f'Accuracy: {accuracy_score(y_test, y_pred)}')\n"
      ],
      "metadata": {
        "colab": {
          "base_uri": "https://localhost:8080/"
        },
        "id": "vjMATlFbUimx",
        "outputId": "68d1fc3c-74dd-469d-e6d1-ec7a5193b67a"
      },
      "execution_count": 22,
      "outputs": [
        {
          "output_type": "stream",
          "name": "stdout",
          "text": [
            "Accuracy: 0.9\n"
          ]
        }
      ]
    },
    {
      "cell_type": "code",
      "source": [
        "\n",
        "from sklearn.metrics.pairwise import cosine_similarity\n",
        "from sklearn.preprocessing import LabelEncoder\n",
        "\n",
        "le_customer = LabelEncoder()\n",
        "le_product = LabelEncoder()\n",
        "\n",
        "df_agg['customer_id'] = le_customer.fit_transform(df_agg['customer_id'])\n",
        "df_agg['product_id'] = le_product.fit_transform(df_agg['product_id'])\n",
        "df_agg = df.groupby(['customer_id', 'product_id'])['purchase_amount'].sum().reset_index()\n",
        "user_item_matrix = df_agg.pivot(index='customer_id', columns='product_id', values='purchase_amount').fillna(0)\n",
        "\n",
        "similarity_matrix = cosine_similarity(user_item_matrix)\n",
        "\n",
        "def recommend_products(customer_id, num_recommendations=5):\n",
        "    customer_idx = le_customer.transform([customer_id])[0]\n",
        "    similar_customers = similarity_matrix[customer_idx]\n",
        "    similar_customers_idx = similar_customers.argsort()[-num_recommendations:][::-1]\n",
        "\n",
        "    recommended_products = []\n",
        "    for idx in similar_customers_idx:\n",
        "        recommended_products.extend(user_item_matrix.columns[user_item_matrix.iloc[idx].to_numpy().argsort()[-num_recommendations:][::-1]])\n",
        "\n",
        "    recommended_products = list(dict.fromkeys(recommended_products))[:num_recommendations]\n",
        "\n",
        "    return le_product.inverse_transform(recommended_products)\n",
        "\n",
        "print(recommend_products('C001', num_recommendations=5))\n"
      ],
      "metadata": {
        "colab": {
          "base_uri": "https://localhost:8080/"
        },
        "id": "BdeTsMzMW6UK",
        "outputId": "1e68ab93-7953-4f31-f18d-e184fdcdaa33"
      },
      "execution_count": 23,
      "outputs": [
        {
          "output_type": "stream",
          "name": "stdout",
          "text": [
            "['P011' 'P020' 'P009' 'P002' 'P003']\n"
          ]
        }
      ]
    },
    {
      "cell_type": "code",
      "source": [
        "from fastapi import FastAPI, HTTPException\n",
        "from pydantic import BaseModel\n",
        "import numpy as np\n",
        "\n",
        "app = FastAPI()\n",
        "\n",
        "class CustomerData(BaseModel):\n",
        "    customer_id: str\n",
        "    features: list\n",
        "\n",
        "@app.post(\"/predict_return/\")\n",
        "def predict_return(data: CustomerData):\n",
        "    features = np.array(data.features).reshape(1, -1)\n",
        "    prediction = clf.predict(features)[0]\n",
        "    return {\"customer_id\": data.customer_id, \"return_prediction\": prediction}\n",
        "\n",
        "@app.post(\"/recommend_products/\")\n",
        "def recommend(data: CustomerData):\n",
        "    try:\n",
        "        recommendations = recommend_products(data.customer_id)\n",
        "        return {\"customer_id\": data.customer_id, \"recommendations\": recommendations}\n",
        "    except:\n",
        "        raise HTTPException(status_code=404, detail=\"Customer not found\")\n"
      ],
      "metadata": {
        "id": "xcHVaLJYWIHg"
      },
      "execution_count": 26,
      "outputs": []
    }
  ]
}